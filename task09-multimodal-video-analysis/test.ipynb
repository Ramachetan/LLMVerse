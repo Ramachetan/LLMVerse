{
 "cells": [
  {
   "cell_type": "code",
   "execution_count": null,
   "metadata": {},
   "outputs": [
    {
     "ename": "",
     "evalue": "",
     "output_type": "error",
     "traceback": [
      "\u001b[1;31mRunning cells with 'Python 3.13.2' requires the ipykernel package.\n",
      "\u001b[1;31mRun the following command to install 'ipykernel' into the Python environment. \n",
      "\u001b[1;31mCommand: '/opt/homebrew/bin/python3 -m pip install ipykernel -U --user --force-reinstall'"
     ]
    }
   ],
   "source": [
    "import asyncio\n",
    "from google import genai\n",
    "import os\n",
    "from dotenv import load_dotenv\n",
    "\n",
    "# Load environment variables from .env file\n",
    "load_dotenv() \n",
    "GEMINI_API_KEY = os.getenv(\"GEMINI_API_KEY\")\n",
    "client = genai.Client(api_key=GEMINI_API_KEY, http_options={'api_version': 'v1alpha'})\n",
    "model = \"gemini-2.0-flash-exp\"\n",
    "\n",
    "config = {\"response_modalities\": [\"TEXT\"]}\n",
    "\n",
    "async def main():\n",
    "    async with client.aio.live.connect(model=model, config=config) as session:\n",
    "        while True:\n",
    "            message = input(\"User> \")\n",
    "            if message.lower() == \"exit\":\n",
    "                break\n",
    "            await session.send(input=message, end_of_turn=True)\n",
    "\n",
    "            async for response in session.receive():\n",
    "                if response.text is not None:\n",
    "                    print(response.text, end=\"\")\n",
    "\n",
    "if __name__ == \"__main__\":\n",
    "    asyncio.run(main())"
   ]
  },
  {
   "cell_type": "code",
   "execution_count": null,
   "metadata": {},
   "outputs": [],
   "source": []
  }
 ],
 "metadata": {
  "kernelspec": {
   "display_name": "Python 3",
   "language": "python",
   "name": "python3"
  },
  "language_info": {
   "name": "python",
   "version": "3.13.2"
  }
 },
 "nbformat": 4,
 "nbformat_minor": 2
}
