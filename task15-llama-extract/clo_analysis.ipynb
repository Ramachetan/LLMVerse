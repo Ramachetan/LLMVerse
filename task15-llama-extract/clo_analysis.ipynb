{
 "cells": [
  {
   "cell_type": "code",
   "execution_count": null,
   "metadata": {},
   "outputs": [],
   "source": [
    "! pip install llama_cloud_services -q"
   ]
  },
  {
   "cell_type": "code",
   "execution_count": null,
   "metadata": {},
   "outputs": [],
   "source": [
    "from dotenv import load_dotenv\n",
    "from llama_cloud_services import LlamaExtract\n",
    "\n",
    "\n",
    "# Load environment variables (put LLAMA_CLOUD_API_KEY in your .env file)\n",
    "load_dotenv(override=True)\n",
    "\n",
    "# Optionally, add your project id/organization id\n",
    "llama_extract = LlamaExtract()"
   ]
  },
  {
   "cell_type": "code",
   "execution_count": null,
   "metadata": {},
   "outputs": [],
   "source": [
    "from pydantic import BaseModel, Field\n",
    "\n",
    "\n",
    "class CLO(BaseModel):\n",
    "    loanx_id: str = Field(description=\"The loanX ID or the CUSIP\")\n",
    "    bloomberg_id: str = Field(description=\"Bloomberg ID\")\n",
    "    issue_name: str = Field(description=\"The name of the issue\")\n",
    "    purchase_price: float = Field(description=\"The purchase price\")\n",
    "    stated_maturity: str = Field(description=\"The stated maturity date\")\n",
    "    market_value: float = Field(description=\"The market value\")\n",
    "    market_value_pricing_service: str = Field(\n",
    "        description=\"The market value pricing service\"\n",
    "    )\n",
    "    funded_balance: float = Field(\n",
    "        description=\"The funded balance\"\n",
    "    )\n",
    "    total_commitment: float = Field(\n",
    "        description=\"The total commitment\"\n",
    "    )\n",
    "    market_value_commitment: float = Field(\n",
    "        description=\"The market value of the commitment\"\n",
    "    )"
   ]
  }
 ],
 "metadata": {
  "language_info": {
   "name": "python"
  }
 },
 "nbformat": 4,
 "nbformat_minor": 2
}
